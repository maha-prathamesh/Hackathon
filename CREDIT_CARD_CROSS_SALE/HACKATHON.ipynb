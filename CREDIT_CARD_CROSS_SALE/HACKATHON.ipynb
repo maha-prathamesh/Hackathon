{
  "nbformat": 4,
  "nbformat_minor": 0,
  "metadata": {
    "accelerator": "GPU",
    "colab": {
      "name": "HACKATHON.ipynb",
      "provenance": [],
      "collapsed_sections": [],
      "toc_visible": true,
      "machine_shape": "hm"
    },
    "kernelspec": {
      "display_name": "Python 3",
      "name": "python3"
    },
    "language_info": {
      "name": "python"
    }
  },
  "cells": [
    {
      "cell_type": "code",
      "metadata": {
        "colab": {
          "base_uri": "https://localhost:8080/"
        },
        "id": "JcuApUxRago9",
        "outputId": "e513bf2e-24b6-4dcc-ebf4-46137cf657b8"
      },
      "source": [
        "gpu_info = !nvidia-smi\n",
        "gpu_info = '\\n'.join(gpu_info)\n",
        "if gpu_info.find('failed') >= 0:\n",
        "  print('Select the Runtime > \"Change runtime type\" menu to enable a GPU accelerator, ')\n",
        "  print('and then re-execute this cell.')\n",
        "else:\n",
        "  print(gpu_info)"
      ],
      "execution_count": 6,
      "outputs": [
        {
          "output_type": "stream",
          "text": [
            "Sat May 29 06:48:06 2021       \n",
            "+-----------------------------------------------------------------------------+\n",
            "| NVIDIA-SMI 465.19.01    Driver Version: 460.32.03    CUDA Version: 11.2     |\n",
            "|-------------------------------+----------------------+----------------------+\n",
            "| GPU  Name        Persistence-M| Bus-Id        Disp.A | Volatile Uncorr. ECC |\n",
            "| Fan  Temp  Perf  Pwr:Usage/Cap|         Memory-Usage | GPU-Util  Compute M. |\n",
            "|                               |                      |               MIG M. |\n",
            "|===============================+======================+======================|\n",
            "|   0  Tesla P100-PCIE...  Off  | 00000000:00:04.0 Off |                    0 |\n",
            "| N/A   36C    P0    27W / 250W |      0MiB / 16280MiB |      0%      Default |\n",
            "|                               |                      |                  N/A |\n",
            "+-------------------------------+----------------------+----------------------+\n",
            "                                                                               \n",
            "+-----------------------------------------------------------------------------+\n",
            "| Processes:                                                                  |\n",
            "|  GPU   GI   CI        PID   Type   Process name                  GPU Memory |\n",
            "|        ID   ID                                                   Usage      |\n",
            "|=============================================================================|\n",
            "|  No running processes found                                                 |\n",
            "+-----------------------------------------------------------------------------+\n"
          ],
          "name": "stdout"
        }
      ]
    },
    {
      "cell_type": "markdown",
      "metadata": {
        "id": "VPrrW5raayeF"
      },
      "source": [
        ""
      ]
    },
    {
      "cell_type": "code",
      "metadata": {
        "id": "gdDGRRc0azDA"
      },
      "source": [
        "import os\n",
        "DIR = \"/content/drive/MyDrive/HACKATHON\""
      ],
      "execution_count": 7,
      "outputs": []
    },
    {
      "cell_type": "code",
      "metadata": {
        "id": "sKeK5Fmea2Lu"
      },
      "source": [
        "os.chdir(DIR)"
      ],
      "execution_count": 8,
      "outputs": []
    },
    {
      "cell_type": "markdown",
      "metadata": {
        "id": "pUkLUa1MbllZ"
      },
      "source": [
        "# Importing the Relevant Libraries"
      ]
    },
    {
      "cell_type": "code",
      "metadata": {
        "colab": {
          "base_uri": "https://localhost:8080/",
          "height": 153
        },
        "id": "FRIx8czsdz-Q",
        "outputId": "2c7f2f90-968e-4dbe-cf33-030e8895d781"
      },
      "source": [
        "from palettable.colorbrewer.diverging import *\n",
        "import seaborn  as sns\n",
        "sns.set(style='whitegrid', palette=\"Spectral_r\")\n",
        "cb_pal = sns.cubehelix_palette(8, start=0.5, rot=-.75)\n",
        "sns.cubehelix_palette(start=.5, rot=-.75, as_cmap=True)\n",
        "cpal = sns.color_palette(\"Blues\")\n",
        "sns.palplot(cpal)\n",
        "sns.palplot(cb_pal)"
      ],
      "execution_count": 9,
      "outputs": [
        {
          "output_type": "display_data",
          "data": {
            "image/png": "[encoded data removed]",
            "text/plain": [
              "<Figure size 432x72 with 1 Axes>"
            ]
          },
          "metadata": {
            "tags": []
          }
        },
        {
          "output_type": "display_data",
          "data": {
            "image/png": "[encoded data removed]",
            "text/plain": [
              "<Figure size 576x72 with 1 Axes>"
            ]
          },
          "metadata": {
            "tags": []
          }
        }
      ]
    },
    {
      "cell_type": "code",
      "metadata": {
        "id": "QW6qpjarvBu7",
        "colab": {
          "base_uri": "https://localhost:8080/"
        },
        "outputId": "9312a604-9694-433b-f7a3-ff69b65e21c0"
      },
      "source": [
        "pip install catboost"
      ],
      "execution_count": 10,
      "outputs": [
        {
          "output_type": "stream",
          "text": [
            "Collecting catboost\n",
            "\u001b[?25l  Downloading https://files.pythonhosted.org/packages/47/80/8e9c57ec32dfed6ba2922bc5c96462cbf8596ce1a6f5de532ad1e43e53fe/catboost-0.25.1-cp37-none-manylinux1_x86_64.whl (67.3MB)\n",
            "\u001b[K     |████████████████████████████████| 67.3MB 77kB/s \n",
            "\u001b[?25hRequirement already satisfied: matplotlib in /usr/local/lib/python3.7/dist-packages (from catboost) (3.2.2)\n",
            "Requirement already satisfied: scipy in /usr/local/lib/python3.7/dist-packages (from catboost) (1.4.1)\n",
            "Requirement already satisfied: six in /usr/local/lib/python3.7/dist-packages (from catboost) (1.15.0)\n",
            "Requirement already satisfied: numpy>=1.16.0 in /usr/local/lib/python3.7/dist-packages (from catboost) (1.19.5)\n",
            "Requirement already satisfied: plotly in /usr/local/lib/python3.7/dist-packages (from catboost) (4.4.1)\n",
            "Requirement already satisfied: graphviz in /usr/local/lib/python3.7/dist-packages (from catboost) (0.10.1)\n",
            "Requirement already satisfied: pandas>=0.24.0 in /usr/local/lib/python3.7/dist-packages (from catboost) (1.1.5)\n",
            "Requirement already satisfied: cycler>=0.10 in /usr/local/lib/python3.7/dist-packages (from matplotlib->catboost) (0.10.0)\n",
            "Requirement already satisfied: pyparsing!=2.0.4,!=2.1.2,!=2.1.6,>=2.0.1 in /usr/local/lib/python3.7/dist-packages (from matplotlib->catboost) (2.4.7)\n",
            "Requirement already satisfied: kiwisolver>=1.0.1 in /usr/local/lib/python3.7/dist-packages (from matplotlib->catboost) (1.3.1)\n",
            "Requirement already satisfied: python-dateutil>=2.1 in /usr/local/lib/python3.7/dist-packages (from matplotlib->catboost) (2.8.1)\n",
            "Requirement already satisfied: retrying>=1.3.3 in /usr/local/lib/python3.7/dist-packages (from plotly->catboost) (1.3.3)\n",
            "Requirement already satisfied: pytz>=2017.2 in /usr/local/lib/python3.7/dist-packages (from pandas>=0.24.0->catboost) (2018.9)\n",
            "Installing collected packages: catboost\n",
            "Successfully installed catboost-0.25.1\n"
          ],
          "name": "stdout"
        }
      ]
    },
    {
      "cell_type": "code",
      "metadata": {
        "id": "vRopVPDObDes"
      },
      "source": [
        "import matplotlib.pyplot as plt\n",
        "import pandas as pd\n",
        "import numpy as np\n",
        "import seaborn as sns\n",
        "\n",
        "from sklearn.preprocessing import LabelEncoder\n",
        "from sklearn.model_selection import train_test_split\n",
        "from sklearn import metrics\n",
        "\n",
        "\n",
        "from sklearn.linear_model import LogisticRegression\n",
        "from sklearn.neighbors import KNeighborsClassifier\n",
        "from xgboost import XGBClassifier\n",
        "from lightgbm import LGBMClassifier\n",
        "from sklearn.ensemble import RandomForestClassifier\n",
        "from sklearn.ensemble import ExtraTreesClassifier\n",
        "\n",
        "\n",
        "import warnings\n",
        "warnings.filterwarnings('always')\n",
        "warnings.filterwarnings('ignore')"
      ],
      "execution_count": 11,
      "outputs": []
    },
    {
      "cell_type": "code",
      "metadata": {
        "id": "wzTHdwKCbLFA"
      },
      "source": [
        "train = pd.read_csv(\"train.csv\")\n",
        "test = pd.read_csv(\"test.csv\")"
      ],
      "execution_count": 12,
      "outputs": []
    },
    {
      "cell_type": "markdown",
      "metadata": {
        "id": "4XJE_DRGbYAK"
      },
      "source": [
        "# Data Inspection"
      ]
    },
    {
      "cell_type": "code",
      "metadata": {
        "id": "NEWwX9pxbWe6",
        "colab": {
          "base_uri": "https://localhost:8080/"
        },
        "outputId": "f5220db6-1806-44d9-9b2f-9b0535d5a95a"
      },
      "source": [
        "train.shape,test.shape"
      ],
      "execution_count": 13,
      "outputs": [
        {
          "output_type": "execute_result",
          "data": {
            "text/plain": [
              "((245725, 11), (105312, 10))"
            ]
          },
          "metadata": {
            "tags": []
          },
          "execution_count": 13
        }
      ]
    },
    {
      "cell_type": "code",
      "metadata": {
        "id": "VQKU8BK5bg1Q",
        "colab": {
          "base_uri": "https://localhost:8080/"
        },
        "outputId": "961df8f5-0322-4f18-ea1a-bb80ea905c47"
      },
      "source": [
        "#ratio of null values\n",
        "train.isnull().sum()/train.shape[0] *100"
      ],
      "execution_count": 14,
      "outputs": [
        {
          "output_type": "execute_result",
          "data": {
            "text/plain": [
              "ID                      0.000000\n",
              "Gender                  0.000000\n",
              "Age                     0.000000\n",
              "Region_Code             0.000000\n",
              "Occupation              0.000000\n",
              "Channel_Code            0.000000\n",
              "Vintage                 0.000000\n",
              "Credit_Product         11.934073\n",
              "Avg_Account_Balance     0.000000\n",
              "Is_Active               0.000000\n",
              "Is_Lead                 0.000000\n",
              "dtype: float64"
            ]
          },
          "metadata": {
            "tags": []
          },
          "execution_count": 14
        }
      ]
    },
    {
      "cell_type": "code",
      "metadata": {
        "id": "lqDebWGib495",
        "colab": {
          "base_uri": "https://localhost:8080/"
        },
        "outputId": "a0d2dda9-5cf5-4bb9-93ee-b68c325d253d"
      },
      "source": [
        "#ratio of null values\n",
        "test.isnull().sum()/test.shape[0] *100"
      ],
      "execution_count": 15,
      "outputs": [
        {
          "output_type": "execute_result",
          "data": {
            "text/plain": [
              "ID                      0.000000\n",
              "Gender                  0.000000\n",
              "Age                     0.000000\n",
              "Region_Code             0.000000\n",
              "Occupation              0.000000\n",
              "Channel_Code            0.000000\n",
              "Vintage                 0.000000\n",
              "Credit_Product         11.890383\n",
              "Avg_Account_Balance     0.000000\n",
              "Is_Active               0.000000\n",
              "dtype: float64"
            ]
          },
          "metadata": {
            "tags": []
          },
          "execution_count": 15
        }
      ]
    },
    {
      "cell_type": "code",
      "metadata": {
        "id": "QiFVJK4Cb5Ba",
        "colab": {
          "base_uri": "https://localhost:8080/"
        },
        "outputId": "7c8c18d2-078f-4c96-d45a-5f409027d330"
      },
      "source": [
        "#categorical features\n",
        "categorical = train.select_dtypes(include =[np.object])\n",
        "print(\"Categorical Features in Train Set:\",categorical.shape[1])\n",
        "\n",
        "#numerical features\n",
        "numerical= train.select_dtypes(include =[np.float64,np.int64])\n",
        "print(\"Numerical Features in Train Set:\",numerical.shape[1])"
      ],
      "execution_count": 16,
      "outputs": [
        {
          "output_type": "stream",
          "text": [
            "Categorical Features in Train Set: 7\n",
            "Numerical Features in Train Set: 4\n"
          ],
          "name": "stdout"
        }
      ]
    },
    {
      "cell_type": "code",
      "metadata": {
        "id": "B3TEbNbUb5EX",
        "colab": {
          "base_uri": "https://localhost:8080/"
        },
        "outputId": "11f499ca-a99b-4c81-8c1b-97486f4d17c4"
      },
      "source": [
        "#categorical features\n",
        "categorical = test.select_dtypes(include =[np.object])\n",
        "print(\"Categorical Features in Test Set:\",categorical.shape[1])\n",
        "\n",
        "#numerical features\n",
        "numerical= test.select_dtypes(include =[np.float64,np.int64])\n",
        "print(\"Numerical Features in Test Set:\",numerical.shape[1])"
      ],
      "execution_count": 17,
      "outputs": [
        {
          "output_type": "stream",
          "text": [
            "Categorical Features in Test Set: 7\n",
            "Numerical Features in Test Set: 3\n"
          ],
          "name": "stdout"
        }
      ]
    },
    {
      "cell_type": "markdown",
      "metadata": {
        "id": "vI4HfN4FcWCl"
      },
      "source": [
        "# Data Cleaning"
      ]
    },
    {
      "cell_type": "code",
      "metadata": {
        "id": "ZQ5hHXlLb5HN",
        "colab": {
          "base_uri": "https://localhost:8080/"
        },
        "outputId": "c55b6e9e-ab0b-439d-cc55-1fca71d17f6c"
      },
      "source": [
        "train.isnull().sum()"
      ],
      "execution_count": 18,
      "outputs": [
        {
          "output_type": "execute_result",
          "data": {
            "text/plain": [
              "ID                         0\n",
              "Gender                     0\n",
              "Age                        0\n",
              "Region_Code                0\n",
              "Occupation                 0\n",
              "Channel_Code               0\n",
              "Vintage                    0\n",
              "Credit_Product         29325\n",
              "Avg_Account_Balance        0\n",
              "Is_Active                  0\n",
              "Is_Lead                    0\n",
              "dtype: int64"
            ]
          },
          "metadata": {
            "tags": []
          },
          "execution_count": 18
        }
      ]
    },
    {
      "cell_type": "code",
      "metadata": {
        "id": "mdzBoRzqb5LQ",
        "colab": {
          "base_uri": "https://localhost:8080/"
        },
        "outputId": "5614cc84-df11-44a2-a0cd-c141a6f08503"
      },
      "source": [
        "test.isnull().sum()"
      ],
      "execution_count": 19,
      "outputs": [
        {
          "output_type": "execute_result",
          "data": {
            "text/plain": [
              "ID                         0\n",
              "Gender                     0\n",
              "Age                        0\n",
              "Region_Code                0\n",
              "Occupation                 0\n",
              "Channel_Code               0\n",
              "Vintage                    0\n",
              "Credit_Product         12522\n",
              "Avg_Account_Balance        0\n",
              "Is_Active                  0\n",
              "dtype: int64"
            ]
          },
          "metadata": {
            "tags": []
          },
          "execution_count": 19
        }
      ]
    },
    {
      "cell_type": "code",
      "metadata": {
        "id": "kvl6lFIhctGT",
        "colab": {
          "base_uri": "https://localhost:8080/"
        },
        "outputId": "3f7997e0-243d-499d-827b-eccc62b27e9b"
      },
      "source": [
        "train.Credit_Product.value_counts()"
      ],
      "execution_count": 20,
      "outputs": [
        {
          "output_type": "execute_result",
          "data": {
            "text/plain": [
              "No     144357\n",
              "Yes     72043\n",
              "Name: Credit_Product, dtype: int64"
            ]
          },
          "metadata": {
            "tags": []
          },
          "execution_count": 20
        }
      ]
    },
    {
      "cell_type": "code",
      "metadata": {
        "id": "TU-Gwq23c9xe"
      },
      "source": [
        "train['Credit_Product']= train['Credit_Product'].fillna(train['Credit_Product'].mode()[0])\n",
        "test['Credit_Product']= test['Credit_Product'].fillna(test['Credit_Product'].mode()[0])"
      ],
      "execution_count": 21,
      "outputs": []
    },
    {
      "cell_type": "code",
      "metadata": {
        "id": "vyJ1jaDZdC08",
        "colab": {
          "base_uri": "https://localhost:8080/"
        },
        "outputId": "ef974a64-6704-43bc-94ea-33fc54e43360"
      },
      "source": [
        "train.isnull().sum()"
      ],
      "execution_count": 22,
      "outputs": [
        {
          "output_type": "execute_result",
          "data": {
            "text/plain": [
              "ID                     0\n",
              "Gender                 0\n",
              "Age                    0\n",
              "Region_Code            0\n",
              "Occupation             0\n",
              "Channel_Code           0\n",
              "Vintage                0\n",
              "Credit_Product         0\n",
              "Avg_Account_Balance    0\n",
              "Is_Active              0\n",
              "Is_Lead                0\n",
              "dtype: int64"
            ]
          },
          "metadata": {
            "tags": []
          },
          "execution_count": 22
        }
      ]
    },
    {
      "cell_type": "markdown",
      "metadata": {
        "id": "jRHsH56VdK_5"
      },
      "source": [
        "# Exploratory Data Analysis"
      ]
    },
    {
      "cell_type": "code",
      "metadata": {
        "id": "RQJ0-6D1dFFN",
        "colab": {
          "base_uri": "https://localhost:8080/"
        },
        "outputId": "cb8fa758-3d9c-4729-df9d-c58bd38f0d65"
      },
      "source": [
        "train.columns"
      ],
      "execution_count": 23,
      "outputs": [
        {
          "output_type": "execute_result",
          "data": {
            "text/plain": [
              "Index(['ID', 'Gender', 'Age', 'Region_Code', 'Occupation', 'Channel_Code',\n",
              "       'Vintage', 'Credit_Product', 'Avg_Account_Balance', 'Is_Active',\n",
              "       'Is_Lead'],\n",
              "      dtype='object')"
            ]
          },
          "metadata": {
            "tags": []
          },
          "execution_count": 23
        }
      ]
    },
    {
      "cell_type": "code",
      "metadata": {
        "id": "gMbh8CrldFIx",
        "colab": {
          "base_uri": "https://localhost:8080/",
          "height": 197
        },
        "outputId": "e8f2d8d2-60be-4f2e-f482-18288ce4ff03"
      },
      "source": [
        "train.head()"
      ],
      "execution_count": 24,
      "outputs": [
        {
          "output_type": "execute_result",
          "data": {
            "text/html": [
              "<div>\n",
              "<style scoped>\n",
              "    .dataframe tbody tr th:only-of-type {\n",
              "        vertical-align: middle;\n",
              "    }\n",
              "\n",
              "    .dataframe tbody tr th {\n",
              "        vertical-align: top;\n",
              "    }\n",
              "\n",
              "    .dataframe thead th {\n",
              "        text-align: right;\n",
              "    }\n",
              "</style>\n",
              "<table border=\"1\" class=\"dataframe\">\n",
              "  <thead>\n",
              "    <tr style=\"text-align: right;\">\n",
              "      <th></th>\n",
              "      <th>ID</th>\n",
              "      <th>Gender</th>\n",
              "      <th>Age</th>\n",
              "      <th>Region_Code</th>\n",
              "      <th>Occupation</th>\n",
              "      <th>Channel_Code</th>\n",
              "      <th>Vintage</th>\n",
              "      <th>Credit_Product</th>\n",
              "      <th>Avg_Account_Balance</th>\n",
              "      <th>Is_Active</th>\n",
              "      <th>Is_Lead</th>\n",
              "    </tr>\n",
              "  </thead>\n",
              "  <tbody>\n",
              "    <tr>\n",
              "      <th>0</th>\n",
              "      <td>NNVBBKZB</td>\n",
              "      <td>Female</td>\n",
              "      <td>73</td>\n",
              "      <td>RG268</td>\n",
              "      <td>Other</td>\n",
              "      <td>X3</td>\n",
              "      <td>43</td>\n",
              "      <td>No</td>\n",
              "      <td>1045696</td>\n",
              "      <td>No</td>\n",
              "      <td>0</td>\n",
              "    </tr>\n",
              "    <tr>\n",
              "      <th>1</th>\n",
              "      <td>IDD62UNG</td>\n",
              "      <td>Female</td>\n",
              "      <td>30</td>\n",
              "      <td>RG277</td>\n",
              "      <td>Salaried</td>\n",
              "      <td>X1</td>\n",
              "      <td>32</td>\n",
              "      <td>No</td>\n",
              "      <td>581988</td>\n",
              "      <td>No</td>\n",
              "      <td>0</td>\n",
              "    </tr>\n",
              "    <tr>\n",
              "      <th>2</th>\n",
              "      <td>HD3DSEMC</td>\n",
              "      <td>Female</td>\n",
              "      <td>56</td>\n",
              "      <td>RG268</td>\n",
              "      <td>Self_Employed</td>\n",
              "      <td>X3</td>\n",
              "      <td>26</td>\n",
              "      <td>No</td>\n",
              "      <td>1484315</td>\n",
              "      <td>Yes</td>\n",
              "      <td>0</td>\n",
              "    </tr>\n",
              "    <tr>\n",
              "      <th>3</th>\n",
              "      <td>BF3NC7KV</td>\n",
              "      <td>Male</td>\n",
              "      <td>34</td>\n",
              "      <td>RG270</td>\n",
              "      <td>Salaried</td>\n",
              "      <td>X1</td>\n",
              "      <td>19</td>\n",
              "      <td>No</td>\n",
              "      <td>470454</td>\n",
              "      <td>No</td>\n",
              "      <td>0</td>\n",
              "    </tr>\n",
              "    <tr>\n",
              "      <th>4</th>\n",
              "      <td>TEASRWXV</td>\n",
              "      <td>Female</td>\n",
              "      <td>30</td>\n",
              "      <td>RG282</td>\n",
              "      <td>Salaried</td>\n",
              "      <td>X1</td>\n",
              "      <td>33</td>\n",
              "      <td>No</td>\n",
              "      <td>886787</td>\n",
              "      <td>No</td>\n",
              "      <td>0</td>\n",
              "    </tr>\n",
              "  </tbody>\n",
              "</table>\n",
              "</div>"
            ],
            "text/plain": [
              "         ID  Gender  Age  ... Avg_Account_Balance Is_Active Is_Lead\n",
              "0  NNVBBKZB  Female   73  ...             1045696        No       0\n",
              "1  IDD62UNG  Female   30  ...              581988        No       0\n",
              "2  HD3DSEMC  Female   56  ...             1484315       Yes       0\n",
              "3  BF3NC7KV    Male   34  ...              470454        No       0\n",
              "4  TEASRWXV  Female   30  ...              886787        No       0\n",
              "\n",
              "[5 rows x 11 columns]"
            ]
          },
          "metadata": {
            "tags": []
          },
          "execution_count": 24
        }
      ]
    },
    {
      "cell_type": "code",
      "metadata": {
        "id": "bltuMDb7dFMe",
        "colab": {
          "base_uri": "https://localhost:8080/",
          "height": 287
        },
        "outputId": "bdc20159-0166-43bb-c004-8da1d56f861a"
      },
      "source": [
        "train.describe()"
      ],
      "execution_count": 25,
      "outputs": [
        {
          "output_type": "execute_result",
          "data": {
            "text/html": [
              "<div>\n",
              "<style scoped>\n",
              "    .dataframe tbody tr th:only-of-type {\n",
              "        vertical-align: middle;\n",
              "    }\n",
              "\n",
              "    .dataframe tbody tr th {\n",
              "        vertical-align: top;\n",
              "    }\n",
              "\n",
              "    .dataframe thead th {\n",
              "        text-align: right;\n",
              "    }\n",
              "</style>\n",
              "<table border=\"1\" class=\"dataframe\">\n",
              "  <thead>\n",
              "    <tr style=\"text-align: right;\">\n",
              "      <th></th>\n",
              "      <th>Age</th>\n",
              "      <th>Vintage</th>\n",
              "      <th>Avg_Account_Balance</th>\n",
              "      <th>Is_Lead</th>\n",
              "    </tr>\n",
              "  </thead>\n",
              "  <tbody>\n",
              "    <tr>\n",
              "      <th>count</th>\n",
              "      <td>245725.000000</td>\n",
              "      <td>245725.000000</td>\n",
              "      <td>2.457250e+05</td>\n",
              "      <td>245725.000000</td>\n",
              "    </tr>\n",
              "    <tr>\n",
              "      <th>mean</th>\n",
              "      <td>43.856307</td>\n",
              "      <td>46.959141</td>\n",
              "      <td>1.128403e+06</td>\n",
              "      <td>0.237208</td>\n",
              "    </tr>\n",
              "    <tr>\n",
              "      <th>std</th>\n",
              "      <td>14.828672</td>\n",
              "      <td>32.353136</td>\n",
              "      <td>8.529364e+05</td>\n",
              "      <td>0.425372</td>\n",
              "    </tr>\n",
              "    <tr>\n",
              "      <th>min</th>\n",
              "      <td>23.000000</td>\n",
              "      <td>7.000000</td>\n",
              "      <td>2.079000e+04</td>\n",
              "      <td>0.000000</td>\n",
              "    </tr>\n",
              "    <tr>\n",
              "      <th>25%</th>\n",
              "      <td>30.000000</td>\n",
              "      <td>20.000000</td>\n",
              "      <td>6.043100e+05</td>\n",
              "      <td>0.000000</td>\n",
              "    </tr>\n",
              "    <tr>\n",
              "      <th>50%</th>\n",
              "      <td>43.000000</td>\n",
              "      <td>32.000000</td>\n",
              "      <td>8.946010e+05</td>\n",
              "      <td>0.000000</td>\n",
              "    </tr>\n",
              "    <tr>\n",
              "      <th>75%</th>\n",
              "      <td>54.000000</td>\n",
              "      <td>73.000000</td>\n",
              "      <td>1.366666e+06</td>\n",
              "      <td>0.000000</td>\n",
              "    </tr>\n",
              "    <tr>\n",
              "      <th>max</th>\n",
              "      <td>85.000000</td>\n",
              "      <td>135.000000</td>\n",
              "      <td>1.035201e+07</td>\n",
              "      <td>1.000000</td>\n",
              "    </tr>\n",
              "  </tbody>\n",
              "</table>\n",
              "</div>"
            ],
            "text/plain": [
              "                 Age        Vintage  Avg_Account_Balance        Is_Lead\n",
              "count  245725.000000  245725.000000         2.457250e+05  245725.000000\n",
              "mean       43.856307      46.959141         1.128403e+06       0.237208\n",
              "std        14.828672      32.353136         8.529364e+05       0.425372\n",
              "min        23.000000       7.000000         2.079000e+04       0.000000\n",
              "25%        30.000000      20.000000         6.043100e+05       0.000000\n",
              "50%        43.000000      32.000000         8.946010e+05       0.000000\n",
              "75%        54.000000      73.000000         1.366666e+06       0.000000\n",
              "max        85.000000     135.000000         1.035201e+07       1.000000"
            ]
          },
          "metadata": {
            "tags": []
          },
          "execution_count": 25
        }
      ]
    },
    {
      "cell_type": "code",
      "metadata": {
        "id": "zUfBeSk_dFP6",
        "colab": {
          "base_uri": "https://localhost:8080/"
        },
        "outputId": "b7d11106-fced-4c5b-ecc8-0feafe82641f"
      },
      "source": [
        "#Displays Categorical and Numerical Features from dataframe\n",
        "def cat_numeric_details(df):\n",
        "    print('Total Numerical Coulmns : ', len(list(df.select_dtypes(exclude=['object']).columns)), \"\\n\")\n",
        "    print('Numerical Coulmns : ', list(df.select_dtypes(exclude=['object']).columns), \"\\n\")\n",
        "    print('Total Categorical Coulmns : ', len((df.select_dtypes(include=['object']).columns)),\"\\n\")\n",
        "    print('Categorical Coulmns : ', list(df.select_dtypes(include=['object']).columns))\n",
        "    \n",
        "cat_numeric_details(train)"
      ],
      "execution_count": 26,
      "outputs": [
        {
          "output_type": "stream",
          "text": [
            "Total Numerical Coulmns :  4 \n",
            "\n",
            "Numerical Coulmns :  ['Age', 'Vintage', 'Avg_Account_Balance', 'Is_Lead'] \n",
            "\n",
            "Total Categorical Coulmns :  7 \n",
            "\n",
            "Categorical Coulmns :  ['ID', 'Gender', 'Region_Code', 'Occupation', 'Channel_Code', 'Credit_Product', 'Is_Active']\n"
          ],
          "name": "stdout"
        }
      ]
    },
    {
      "cell_type": "markdown",
      "metadata": {
        "id": "W4-rWeuCeCwL"
      },
      "source": [
        "Age Distribution"
      ]
    },
    {
      "cell_type": "code",
      "metadata": {
        "id": "s5ljckLIdFTL",
        "colab": {
          "base_uri": "https://localhost:8080/",
          "height": 356
        },
        "outputId": "9289547f-51eb-4c76-dccd-6969c631cce3"
      },
      "source": [
        "fig, axes = plt.subplots(1, 2, sharex=True, figsize=(15,5))\n",
        "sns.boxplot(x = train[\"Age\"], ax = axes[0])\n",
        "sns.boxplot(x = test[\"Age\"], ax = axes[1])"
      ],
      "execution_count": 27,
      "outputs": [
        {
          "output_type": "execute_result",
          "data": {
            "text/plain": [
              "<matplotlib.axes._subplots.AxesSubplot at 0x7fe9525f2110>"
            ]
          },
          "metadata": {
            "tags": []
          },
          "execution_count": 27
        },
        {
          "output_type": "display_data",
          "data": {
            "image/png": "[encoded data removed]",
            "text/plain": [
              "<Figure size 1080x360 with 2 Axes>"
            ]
          },
          "metadata": {
            "tags": []
          }
        }
      ]
    },
    {
      "cell_type": "markdown",
      "metadata": {
        "id": "qs6TimTGeNOX"
      },
      "source": [
        "Vintage Distribution"
      ]
    },
    {
      "cell_type": "code",
      "metadata": {
        "id": "g29cQv3keL7y",
        "colab": {
          "base_uri": "https://localhost:8080/",
          "height": 356
        },
        "outputId": "df1e49b5-f953-41e8-8358-25efb0743613"
      },
      "source": [
        "fig, axes = plt.subplots(1, 2, sharex=True, figsize=(15,5))\n",
        "sns.boxplot(x = train[\"Vintage\"], ax = axes[0])\n",
        "sns.boxplot(x = test[\"Vintage\"], ax = axes[1])"
      ],
      "execution_count": 28,
      "outputs": [
        {
          "output_type": "execute_result",
          "data": {
            "text/plain": [
              "<matplotlib.axes._subplots.AxesSubplot at 0x7fe952561250>"
            ]
          },
          "metadata": {
            "tags": []
          },
          "execution_count": 28
        },
        {
          "output_type": "display_data",
          "data": {
            "image/png": "[encoded data removed]",
            "text/plain": [
              "<Figure size 1080x360 with 2 Axes>"
            ]
          },
          "metadata": {
            "tags": []
          }
        }
      ]
    },
    {
      "cell_type": "markdown",
      "metadata": {
        "id": "j1xri2Y1eW8J"
      },
      "source": [
        "Avg_Account_Balance distribution"
      ]
    },
    {
      "cell_type": "code",
      "metadata": {
        "id": "Qz68RJiMeXE8",
        "colab": {
          "base_uri": "https://localhost:8080/",
          "height": 356
        },
        "outputId": "3eb3afa1-dfc7-4fc4-d29b-0f8e828e734d"
      },
      "source": [
        "fig, axes = plt.subplots(1, 2, sharex=True, figsize=(15,5))\n",
        "sns.boxplot(x = train[\"Avg_Account_Balance\"], ax = axes[0])\n",
        "sns.boxplot(x = test[\"Avg_Account_Balance\"], ax = axes[1])"
      ],
      "execution_count": 29,
      "outputs": [
        {
          "output_type": "execute_result",
          "data": {
            "text/plain": [
              "<matplotlib.axes._subplots.AxesSubplot at 0x7fe952435b90>"
            ]
          },
          "metadata": {
            "tags": []
          },
          "execution_count": 29
        },
        {
          "output_type": "display_data",
          "data": {
            "image/png": "[encoded data removed]",
            "text/plain": [
              "<Figure size 1080x360 with 2 Axes>"
            ]
          },
          "metadata": {
            "tags": []
          }
        }
      ]
    },
    {
      "cell_type": "markdown",
      "metadata": {
        "id": "kDjYrLMUekdP"
      },
      "source": [
        " ### Categorical Variables"
      ]
    },
    {
      "cell_type": "code",
      "metadata": {
        "id": "yN-6sxp3e0eS"
      },
      "source": [
        "cat_values = ['Gender', 'Region_Code', 'Occupation', 'Channel_Code', 'Credit_Product', 'Is_Active']"
      ],
      "execution_count": 30,
      "outputs": []
    },
    {
      "cell_type": "code",
      "metadata": {
        "id": "8hNelPojefm2",
        "colab": {
          "base_uri": "https://localhost:8080/"
        },
        "outputId": "82ab414f-3e7e-4c06-87be-64204da0ade9"
      },
      "source": [
        "#print([for i in cat_values : train[i].value_counts()])\n",
        "\n",
        "for i in cat_values: \n",
        "  print(\"Columns  : \",  i , \"\\n Values : \", train[i].value_counts(), \"\\n\")"
      ],
      "execution_count": 31,
      "outputs": [
        {
          "output_type": "stream",
          "text": [
            "Columns  :  Gender \n",
            " Values :  Male      134197\n",
            "Female    111528\n",
            "Name: Gender, dtype: int64 \n",
            "\n",
            "Columns  :  Region_Code \n",
            " Values :  RG268    35934\n",
            "RG283    29416\n",
            "RG254    26840\n",
            "RG284    19320\n",
            "RG277    12826\n",
            "RG280    12775\n",
            "RG269     7863\n",
            "RG270     7720\n",
            "RG261     7633\n",
            "RG257     6101\n",
            "RG251     5950\n",
            "RG282     5829\n",
            "RG274     5286\n",
            "RG272     5252\n",
            "RG281     5093\n",
            "RG273     4497\n",
            "RG252     4286\n",
            "RG279     3976\n",
            "RG263     3687\n",
            "RG275     3245\n",
            "RG260     3110\n",
            "RG256     2847\n",
            "RG264     2793\n",
            "RG276     2764\n",
            "RG259     2586\n",
            "RG250     2496\n",
            "RG255     2018\n",
            "RG258     1951\n",
            "RG253     1858\n",
            "RG278     1822\n",
            "RG262     1788\n",
            "RG266     1578\n",
            "RG265     1546\n",
            "RG271     1542\n",
            "RG267     1497\n",
            "Name: Region_Code, dtype: int64 \n",
            "\n",
            "Columns  :  Occupation \n",
            " Values :  Self_Employed    100886\n",
            "Salaried          71999\n",
            "Other             70173\n",
            "Entrepreneur       2667\n",
            "Name: Occupation, dtype: int64 \n",
            "\n",
            "Columns  :  Channel_Code \n",
            " Values :  X1    103718\n",
            "X3     68712\n",
            "X2     67726\n",
            "X4      5569\n",
            "Name: Channel_Code, dtype: int64 \n",
            "\n",
            "Columns  :  Credit_Product \n",
            " Values :  No     173682\n",
            "Yes     72043\n",
            "Name: Credit_Product, dtype: int64 \n",
            "\n",
            "Columns  :  Is_Active \n",
            " Values :  No     150290\n",
            "Yes     95435\n",
            "Name: Is_Active, dtype: int64 \n",
            "\n"
          ],
          "name": "stdout"
        }
      ]
    },
    {
      "cell_type": "code",
      "metadata": {
        "id": "RVk8nChwfElG",
        "colab": {
          "base_uri": "https://localhost:8080/",
          "height": 358
        },
        "outputId": "50c3489c-d554-4f30-8368-959d05f7de91"
      },
      "source": [
        "plt.figure(figsize=(8,5))\n",
        "sns.countplot('Gender', data=train)"
      ],
      "execution_count": 32,
      "outputs": [
        {
          "output_type": "execute_result",
          "data": {
            "text/plain": [
              "<matplotlib.axes._subplots.AxesSubplot at 0x7fe95258b290>"
            ]
          },
          "metadata": {
            "tags": []
          },
          "execution_count": 32
        },
        {
          "output_type": "display_data",
          "data": {
            "image/png": "[encoded data removed]",
            "text/plain": [
              "<Figure size 576x360 with 1 Axes>"
            ]
          },
          "metadata": {
            "tags": []
          }
        }
      ]
    },
    {
      "cell_type": "code",
      "metadata": {
        "id": "XviuY0B5gTC2",
        "colab": {
          "base_uri": "https://localhost:8080/",
          "height": 357
        },
        "outputId": "3a389315-16e1-400b-8977-3c0531cbf261"
      },
      "source": [
        "plt.figure(figsize=(8,5))\n",
        "sns.countplot('Occupation', data=train)"
      ],
      "execution_count": 33,
      "outputs": [
        {
          "output_type": "execute_result",
          "data": {
            "text/plain": [
              "<matplotlib.axes._subplots.AxesSubplot at 0x7fe9523484d0>"
            ]
          },
          "metadata": {
            "tags": []
          },
          "execution_count": 33
        },
        {
          "output_type": "display_data",
          "data": {
            "image/png": "[encoded data removed]",
            "text/plain": [
              "<Figure size 576x360 with 1 Axes>"
            ]
          },
          "metadata": {
            "tags": []
          }
        }
      ]
    },
    {
      "cell_type": "code",
      "metadata": {
        "id": "R9OERWvsgcub",
        "colab": {
          "base_uri": "https://localhost:8080/",
          "height": 356
        },
        "outputId": "7f275695-56d3-482e-ff0a-c6e24289ac46"
      },
      "source": [
        "plt.figure(figsize=(8,5))\n",
        "sns.countplot('Channel_Code', data=train)"
      ],
      "execution_count": 34,
      "outputs": [
        {
          "output_type": "execute_result",
          "data": {
            "text/plain": [
              "<matplotlib.axes._subplots.AxesSubplot at 0x7fe95233f550>"
            ]
          },
          "metadata": {
            "tags": []
          },
          "execution_count": 34
        },
        {
          "output_type": "display_data",
          "data": {
            "image/png": "[encoded data removed]",
            "text/plain": [
              "<Figure size 576x360 with 1 Axes>"
            ]
          },
          "metadata": {
            "tags": []
          }
        }
      ]
    },
    {
      "cell_type": "code",
      "metadata": {
        "id": "U93WwrWzgcx2",
        "colab": {
          "base_uri": "https://localhost:8080/",
          "height": 356
        },
        "outputId": "72a96e96-3f0a-42ba-d1df-37d5770ceb07"
      },
      "source": [
        "plt.figure(figsize=(8,5))\n",
        "sns.countplot('Credit_Product', data=train)"
      ],
      "execution_count": 35,
      "outputs": [
        {
          "output_type": "execute_result",
          "data": {
            "text/plain": [
              "<matplotlib.axes._subplots.AxesSubplot at 0x7fe952308dd0>"
            ]
          },
          "metadata": {
            "tags": []
          },
          "execution_count": 35
        },
        {
          "output_type": "display_data",
          "data": {
            "image/png": "[encoded data removed]",
            "text/plain": [
              "<Figure size 576x360 with 1 Axes>"
            ]
          },
          "metadata": {
            "tags": []
          }
        }
      ]
    },
    {
      "cell_type": "code",
      "metadata": {
        "id": "84j8PRHSgc1g",
        "colab": {
          "base_uri": "https://localhost:8080/",
          "height": 356
        },
        "outputId": "e87e0d1a-eac0-49db-daf8-c55d7447f67f"
      },
      "source": [
        "plt.figure(figsize=(8,5))\n",
        "sns.countplot('Is_Active', data=train)"
      ],
      "execution_count": 36,
      "outputs": [
        {
          "output_type": "execute_result",
          "data": {
            "text/plain": [
              "<matplotlib.axes._subplots.AxesSubplot at 0x7fe952254f10>"
            ]
          },
          "metadata": {
            "tags": []
          },
          "execution_count": 36
        },
        {
          "output_type": "display_data",
          "data": {
            "image/png": "[encoded data removed]",
            "text/plain": [
              "<Figure size 576x360 with 1 Axes>"
            ]
          },
          "metadata": {
            "tags": []
          }
        }
      ]
    },
    {
      "cell_type": "code",
      "metadata": {
        "id": "TMa_9JeBgc4d",
        "colab": {
          "base_uri": "https://localhost:8080/",
          "height": 520
        },
        "outputId": "f75e74d4-5e0c-4fc1-83d2-db41daeb4b22"
      },
      "source": [
        "plt.figure(figsize=(10,8))\n",
        "#sns.countplot(y='Region_Code', data=train, order=train['Region_Code'].value_counts().index)\n",
        "sns.countplot(y='Region_Code', data=train)"
      ],
      "execution_count": 37,
      "outputs": [
        {
          "output_type": "execute_result",
          "data": {
            "text/plain": [
              "<matplotlib.axes._subplots.AxesSubplot at 0x7fe9521c2690>"
            ]
          },
          "metadata": {
            "tags": []
          },
          "execution_count": 37
        },
        {
          "output_type": "display_data",
          "data": {
            "image/png": "[encoded data removed]",
            "text/plain": [
              "<Figure size 720x576 with 1 Axes>"
            ]
          },
          "metadata": {
            "tags": []
          }
        }
      ]
    },
    {
      "cell_type": "code",
      "metadata": {
        "id": "JVh2OMLpg3fH",
        "colab": {
          "base_uri": "https://localhost:8080/",
          "height": 406
        },
        "outputId": "2c1dd577-a2aa-4ba5-b728-dc821f01400e"
      },
      "source": [
        "train.sort_values('Region_Code')['Region_Code'].reset_index()"
      ],
      "execution_count": 38,
      "outputs": [
        {
          "output_type": "execute_result",
          "data": {
            "text/html": [
              "<div>\n",
              "<style scoped>\n",
              "    .dataframe tbody tr th:only-of-type {\n",
              "        vertical-align: middle;\n",
              "    }\n",
              "\n",
              "    .dataframe tbody tr th {\n",
              "        vertical-align: top;\n",
              "    }\n",
              "\n",
              "    .dataframe thead th {\n",
              "        text-align: right;\n",
              "    }\n",
              "</style>\n",
              "<table border=\"1\" class=\"dataframe\">\n",
              "  <thead>\n",
              "    <tr style=\"text-align: right;\">\n",
              "      <th></th>\n",
              "      <th>index</th>\n",
              "      <th>Region_Code</th>\n",
              "    </tr>\n",
              "  </thead>\n",
              "  <tbody>\n",
              "    <tr>\n",
              "      <th>0</th>\n",
              "      <td>228920</td>\n",
              "      <td>RG250</td>\n",
              "    </tr>\n",
              "    <tr>\n",
              "      <th>1</th>\n",
              "      <td>83398</td>\n",
              "      <td>RG250</td>\n",
              "    </tr>\n",
              "    <tr>\n",
              "      <th>2</th>\n",
              "      <td>127604</td>\n",
              "      <td>RG250</td>\n",
              "    </tr>\n",
              "    <tr>\n",
              "      <th>3</th>\n",
              "      <td>210461</td>\n",
              "      <td>RG250</td>\n",
              "    </tr>\n",
              "    <tr>\n",
              "      <th>4</th>\n",
              "      <td>210458</td>\n",
              "      <td>RG250</td>\n",
              "    </tr>\n",
              "    <tr>\n",
              "      <th>...</th>\n",
              "      <td>...</td>\n",
              "      <td>...</td>\n",
              "    </tr>\n",
              "    <tr>\n",
              "      <th>245720</th>\n",
              "      <td>29802</td>\n",
              "      <td>RG284</td>\n",
              "    </tr>\n",
              "    <tr>\n",
              "      <th>245721</th>\n",
              "      <td>232655</td>\n",
              "      <td>RG284</td>\n",
              "    </tr>\n",
              "    <tr>\n",
              "      <th>245722</th>\n",
              "      <td>97109</td>\n",
              "      <td>RG284</td>\n",
              "    </tr>\n",
              "    <tr>\n",
              "      <th>245723</th>\n",
              "      <td>126138</td>\n",
              "      <td>RG284</td>\n",
              "    </tr>\n",
              "    <tr>\n",
              "      <th>245724</th>\n",
              "      <td>42002</td>\n",
              "      <td>RG284</td>\n",
              "    </tr>\n",
              "  </tbody>\n",
              "</table>\n",
              "<p>245725 rows × 2 columns</p>\n",
              "</div>"
            ],
            "text/plain": [
              "         index Region_Code\n",
              "0       228920       RG250\n",
              "1        83398       RG250\n",
              "2       127604       RG250\n",
              "3       210461       RG250\n",
              "4       210458       RG250\n",
              "...        ...         ...\n",
              "245720   29802       RG284\n",
              "245721  232655       RG284\n",
              "245722   97109       RG284\n",
              "245723  126138       RG284\n",
              "245724   42002       RG284\n",
              "\n",
              "[245725 rows x 2 columns]"
            ]
          },
          "metadata": {
            "tags": []
          },
          "execution_count": 38
        }
      ]
    },
    {
      "cell_type": "code",
      "metadata": {
        "id": "HXnoJ7sigc7U"
      },
      "source": [
        "def covert_region_code_range(row):\n",
        "  row_val = row.Region_Code\n",
        "  code = int(row_val.split(\"G\")[1])\n",
        "  if code < 261:\n",
        "    return \"250-260\"\n",
        "  elif code < 271:\n",
        "    return \"261-270\"\n",
        "  else:\n",
        "    return \"271-284\""
      ],
      "execution_count": 39,
      "outputs": []
    },
    {
      "cell_type": "code",
      "metadata": {
        "id": "gNmUlFoQgc-q"
      },
      "source": [
        "train['Region_Code_Range'] = train.apply(covert_region_code_range, axis=1)\n",
        "test['Region_Code_Range'] = test.apply(covert_region_code_range, axis=1)"
      ],
      "execution_count": 40,
      "outputs": []
    },
    {
      "cell_type": "code",
      "metadata": {
        "id": "HorddM7lj8K8",
        "colab": {
          "base_uri": "https://localhost:8080/",
          "height": 520
        },
        "outputId": "e5d0c828-fc6e-4a36-e45c-6a5583577f84"
      },
      "source": [
        "plt.figure(figsize=(10,8))\n",
        "sns.countplot(x='Region_Code_Range', data=train)"
      ],
      "execution_count": 41,
      "outputs": [
        {
          "output_type": "execute_result",
          "data": {
            "text/plain": [
              "<matplotlib.axes._subplots.AxesSubplot at 0x7fe95248b0d0>"
            ]
          },
          "metadata": {
            "tags": []
          },
          "execution_count": 41
        },
        {
          "output_type": "display_data",
          "data": {
            "image/png": "[encoded data removed]",
            "text/plain": [
              "<Figure size 720x576 with 1 Axes>"
            ]
          },
          "metadata": {
            "tags": []
          }
        }
      ]
    },
    {
      "cell_type": "markdown",
      "metadata": {
        "id": "ad5NJxi3lT3y"
      },
      "source": [
        "# Feature Engineering"
      ]
    },
    {
      "cell_type": "markdown",
      "metadata": {
        "id": "oTkydBlrll9t"
      },
      "source": [
        "## Chi-Square"
      ]
    },
    {
      "cell_type": "code",
      "metadata": {
        "id": "7kdLxB4wlPVz"
      },
      "source": [
        "import scipy.stats as stats\n",
        "from scipy.stats import chi2\n",
        "\n",
        "\n",
        "def chi_square(dataset, col1, col2):\n",
        "  print(\"Relationship Between \", col1, \"  \", col2)\n",
        "  dataset_table = pd.crosstab(dataset[col1], dataset[col2])\n",
        "  #print(dataset_table)\n",
        "  \n",
        "  Observed_Values = dataset_table.values \n",
        "  #print(\"Observed Values :-\\n\",Observed_Values)\n",
        "  \n",
        "  val = stats.chi2_contingency(dataset_table)\n",
        "  #print(val)\n",
        "  \n",
        "  Expected_Values=val[3]\n",
        "  \n",
        "  no_of_rows=len(dataset_table.iloc[0:2,0])\n",
        "  no_of_columns=len(dataset_table.iloc[0,0:2])\n",
        "  ddof=(no_of_rows-1)*(no_of_columns-1)\n",
        "  #print(\"Degree of Freedom:\",ddof)\n",
        "  alpha = 0.05\n",
        "  \n",
        "  chi_square = sum([(o-e)**2./e for o,e in zip(Observed_Values,Expected_Values)])\n",
        "  chi_square_statistic = chi_square[0]+chi_square[1]\n",
        "  \n",
        "  print(\"chi-square statistic:-\",chi_square_statistic)\n",
        "\n",
        "  critical_value=chi2.ppf(q=1-alpha,df=ddof)\n",
        "  print('critical_value:',critical_value)\n",
        "\n",
        "  #p-value\n",
        "  p_value=1-chi2.cdf(x=chi_square_statistic,df=ddof)\n",
        "  print('p-value:',p_value)\n",
        "  print('Significance level: ',alpha)\n",
        "  print('Degree of Freedom: ',ddof)\n",
        "  \n",
        "\n",
        "  if chi_square_statistic>=critical_value:\n",
        "      print(\"Reject H0,There is a relationship between 2 categorical variables\")\n",
        "  else:\n",
        "      print(\"Retain H0,There is no relationship between 2 categorical variables\")\n",
        "      \n",
        "  if p_value<=alpha:\n",
        "      print(\"Reject H0,There is a relationship between 2 categorical variables\")\n",
        "  else:\n",
        "      print(\"Retain H0,There is no relationship between 2 categorical variables\")\n",
        "\n",
        "  print(\"\\n\")"
      ],
      "execution_count": 42,
      "outputs": []
    },
    {
      "cell_type": "code",
      "metadata": {
        "id": "dprrKzcKlPeC"
      },
      "source": [
        "train[\"Is_Lead_test\"] = train[\"Is_Lead\"].map({\n",
        "    0:'Yes',\n",
        "    1:'No'\n",
        "})"
      ],
      "execution_count": 43,
      "outputs": []
    },
    {
      "cell_type": "code",
      "metadata": {
        "id": "K2k8PSUSlPZf",
        "colab": {
          "base_uri": "https://localhost:8080/"
        },
        "outputId": "6d2d6668-2619-43ef-cca4-119f85b945de"
      },
      "source": [
        "Cat_Columns = ['Gender', 'Region_Code', 'Occupation', 'Channel_Code', 'Credit_Product', 'Is_Active', 'Region_Code_Range']\n",
        "\n",
        "for col in Cat_Columns:\n",
        "  chi_square(train, \"Is_Lead_test\", col)"
      ],
      "execution_count": 44,
      "outputs": [
        {
          "output_type": "stream",
          "text": [
            "Relationship Between  Is_Lead_test    Gender\n",
            "chi-square statistic:- 1276.2431775486666\n",
            "critical_value: 3.841458820694124\n",
            "p-value: 0.0\n",
            "Significance level:  0.05\n",
            "Degree of Freedom:  1\n",
            "Reject H0,There is a relationship between 2 categorical variables\n",
            "Reject H0,There is a relationship between 2 categorical variables\n",
            "\n",
            "\n",
            "Relationship Between  Is_Lead_test    Region_Code\n",
            "chi-square statistic:- 88.60619613669006\n",
            "critical_value: 3.841458820694124\n",
            "p-value: 0.0\n",
            "Significance level:  0.05\n",
            "Degree of Freedom:  1\n",
            "Reject H0,There is a relationship between 2 categorical variables\n",
            "Reject H0,There is a relationship between 2 categorical variables\n",
            "\n",
            "\n",
            "Relationship Between  Is_Lead_test    Occupation\n",
            "chi-square statistic:- 2666.3344213360683\n",
            "critical_value: 3.841458820694124\n",
            "p-value: 0.0\n",
            "Significance level:  0.05\n",
            "Degree of Freedom:  1\n",
            "Reject H0,There is a relationship between 2 categorical variables\n",
            "Reject H0,There is a relationship between 2 categorical variables\n",
            "\n",
            "\n",
            "Relationship Between  Is_Lead_test    Channel_Code\n",
            "chi-square statistic:- 15261.353235893153\n",
            "critical_value: 3.841458820694124\n",
            "p-value: 0.0\n",
            "Significance level:  0.05\n",
            "Degree of Freedom:  1\n",
            "Reject H0,There is a relationship between 2 categorical variables\n",
            "Reject H0,There is a relationship between 2 categorical variables\n",
            "\n",
            "\n",
            "Relationship Between  Is_Lead_test    Credit_Product\n",
            "chi-square statistic:- 3404.6140951945395\n",
            "critical_value: 3.841458820694124\n",
            "p-value: 0.0\n",
            "Significance level:  0.05\n",
            "Degree of Freedom:  1\n",
            "Reject H0,There is a relationship between 2 categorical variables\n",
            "Reject H0,There is a relationship between 2 categorical variables\n",
            "\n",
            "\n",
            "Relationship Between  Is_Lead_test    Is_Active\n",
            "chi-square statistic:- 1805.7102314932017\n",
            "critical_value: 3.841458820694124\n",
            "p-value: 0.0\n",
            "Significance level:  0.05\n",
            "Degree of Freedom:  1\n",
            "Reject H0,There is a relationship between 2 categorical variables\n",
            "Reject H0,There is a relationship between 2 categorical variables\n",
            "\n",
            "\n",
            "Relationship Between  Is_Lead_test    Region_Code_Range\n",
            "chi-square statistic:- 415.5812940445734\n",
            "critical_value: 3.841458820694124\n",
            "p-value: 0.0\n",
            "Significance level:  0.05\n",
            "Degree of Freedom:  1\n",
            "Reject H0,There is a relationship between 2 categorical variables\n",
            "Reject H0,There is a relationship between 2 categorical variables\n",
            "\n",
            "\n"
          ],
          "name": "stdout"
        }
      ]
    },
    {
      "cell_type": "code",
      "metadata": {
        "id": "glKdxYn7nxY-"
      },
      "source": [
        "train.drop(columns=\"Is_Lead_test\", inplace=True)"
      ],
      "execution_count": 45,
      "outputs": []
    },
    {
      "cell_type": "markdown",
      "metadata": {
        "id": "UbxmlG0voCMT"
      },
      "source": [
        "# Train and Test assigned to new df for feature engineering"
      ]
    },
    {
      "cell_type": "code",
      "metadata": {
        "id": "q3Ficya_n-7v"
      },
      "source": [
        "df_train = train.copy()\n",
        "df_test = test.copy()"
      ],
      "execution_count": 46,
      "outputs": []
    },
    {
      "cell_type": "markdown",
      "metadata": {
        "id": "4M93Qd3XmogQ"
      },
      "source": [
        "## Encoding"
      ]
    },
    {
      "cell_type": "markdown",
      "metadata": {
        "id": "W2k4EYK4m4u5"
      },
      "source": [
        "Columns  :  Gender \n",
        " Values :  Male      134197\n",
        "Female    111528\n",
        "Name: Gender, dtype: int64 \n",
        "\n",
        "Columns  :  Region_Code \n",
        " Values :  RG268    35934\n",
        "RG283    29416\n",
        "RG254    26840\n",
        "RG284    19320\n",
        "RG277    12826\n",
        "RG280    12775\n",
        "RG269     7863\n",
        "RG270     7720\n",
        "RG261     7633\n",
        "RG257     6101\n",
        "RG251     5950\n",
        "RG282     5829\n",
        "RG274     5286\n",
        "RG272     5252\n",
        "RG281     5093\n",
        "RG273     4497\n",
        "RG252     4286\n",
        "RG279     3976\n",
        "RG263     3687\n",
        "RG275     3245\n",
        "RG260     3110\n",
        "RG256     2847\n",
        "RG264     2793\n",
        "RG276     2764\n",
        "RG259     2586\n",
        "RG250     2496\n",
        "RG255     2018\n",
        "RG258     1951\n",
        "RG253     1858\n",
        "RG278     1822\n",
        "RG262     1788\n",
        "RG266     1578\n",
        "RG265     1546\n",
        "RG271     1542\n",
        "RG267     1497\n",
        "Name: Region_Code, dtype: int64 \n",
        "\n",
        "Columns  :  Occupation \n",
        " Values :  Self_Employed    100886\n",
        "Salaried          71999\n",
        "Other             70173\n",
        "Entrepreneur       2667\n",
        "Name: Occupation, dtype: int64 \n",
        "\n",
        "Columns  :  Channel_Code \n",
        " Values :  X1    103718\n",
        "X3     68712\n",
        "X2     67726\n",
        "X4      5569\n",
        "Name: Channel_Code, dtype: int64 \n",
        "\n",
        "Columns  :  Credit_Product \n",
        " Values :  No     173682\n",
        "Yes     72043\n",
        "Name: Credit_Product, dtype: int64 \n",
        "\n",
        "Columns  :  Is_Active \n",
        " Values :  No     150290\n",
        "Yes     95435\n",
        "Name: Is_Active, dtype: int64 "
      ]
    },
    {
      "cell_type": "code",
      "metadata": {
        "id": "0PwIK5X_lQCx"
      },
      "source": [
        "def freq_encoding(df):\n",
        "    frequency = df.groupby('Region_Code').size()/len(df)\n",
        "    df.loc[:,'Region_Code_fcode'] = df['Region_Code'].map(frequency)\n",
        "    df.drop(columns='Region_Code',axis=1,inplace=True)\n",
        "    return df"
      ],
      "execution_count": 47,
      "outputs": []
    },
    {
      "cell_type": "markdown",
      "metadata": {
        "id": "uGxh6QeWoiSN"
      },
      "source": [
        "Train"
      ]
    },
    {
      "cell_type": "code",
      "metadata": {
        "id": "jx0NnM85sSNp"
      },
      "source": [
        "from sklearn.preprocessing import LabelEncoder\n",
        "le = LabelEncoder()"
      ],
      "execution_count": 48,
      "outputs": []
    },
    {
      "cell_type": "code",
      "metadata": {
        "id": "icr6V4wjncNc"
      },
      "source": [
        "freq_encoding(df_train)\n",
        "df_train = pd.get_dummies(df_train, columns=['Gender', 'Occupation', 'Credit_Product', 'Is_Active', 'Region_Code_Range'])\n",
        "df_train['Channel_Code'] = le.fit_transform(df_train['Channel_Code'])"
      ],
      "execution_count": 49,
      "outputs": []
    },
    {
      "cell_type": "markdown",
      "metadata": {
        "id": "TpkkxScuojwD"
      },
      "source": [
        "Test"
      ]
    },
    {
      "cell_type": "code",
      "metadata": {
        "id": "gwLNkorYncS2"
      },
      "source": [
        "freq_encoding(df_test)\n",
        "df_test = pd.get_dummies(df_test, columns=['Gender', 'Occupation', 'Credit_Product', 'Is_Active', 'Region_Code_Range'])\n",
        "df_test['Channel_Code'] = le.fit_transform(df_test['Channel_Code'])"
      ],
      "execution_count": 50,
      "outputs": []
    },
    {
      "cell_type": "code",
      "metadata": {
        "id": "Wdpd96Pkncit"
      },
      "source": [
        ""
      ],
      "execution_count": 50,
      "outputs": []
    },
    {
      "cell_type": "markdown",
      "metadata": {
        "id": "IjxIrBvLs-qa"
      },
      "source": [
        "# Model Building"
      ]
    },
    {
      "cell_type": "code",
      "metadata": {
        "id": "SIhu46PznBT0",
        "colab": {
          "base_uri": "https://localhost:8080/"
        },
        "outputId": "f5166cf1-8ba1-4310-cbeb-8657923f1078"
      },
      "source": [
        "df_train.columns"
      ],
      "execution_count": 51,
      "outputs": [
        {
          "output_type": "execute_result",
          "data": {
            "text/plain": [
              "Index(['ID', 'Age', 'Channel_Code', 'Vintage', 'Avg_Account_Balance',\n",
              "       'Is_Lead', 'Region_Code_fcode', 'Gender_Female', 'Gender_Male',\n",
              "       'Occupation_Entrepreneur', 'Occupation_Other', 'Occupation_Salaried',\n",
              "       'Occupation_Self_Employed', 'Credit_Product_No', 'Credit_Product_Yes',\n",
              "       'Is_Active_No', 'Is_Active_Yes', 'Region_Code_Range_250-260',\n",
              "       'Region_Code_Range_261-270', 'Region_Code_Range_271-284'],\n",
              "      dtype='object')"
            ]
          },
          "metadata": {
            "tags": []
          },
          "execution_count": 51
        }
      ]
    },
    {
      "cell_type": "code",
      "metadata": {
        "id": "PC2ONoNxtJtN",
        "colab": {
          "base_uri": "https://localhost:8080/"
        },
        "outputId": "815006ea-2576-4519-9308-e1440044df1a"
      },
      "source": [
        "df_train.shape"
      ],
      "execution_count": 52,
      "outputs": [
        {
          "output_type": "execute_result",
          "data": {
            "text/plain": [
              "(245725, 20)"
            ]
          },
          "metadata": {
            "tags": []
          },
          "execution_count": 52
        }
      ]
    },
    {
      "cell_type": "code",
      "metadata": {
        "id": "bZdARHXltW0H",
        "colab": {
          "base_uri": "https://localhost:8080/",
          "height": 234
        },
        "outputId": "0dfc55e8-1273-4a55-da37-435c3ad2e3f5"
      },
      "source": [
        "df_train.head()"
      ],
      "execution_count": 53,
      "outputs": [
        {
          "output_type": "execute_result",
          "data": {
            "text/html": [
              "<div>\n",
              "<style scoped>\n",
              "    .dataframe tbody tr th:only-of-type {\n",
              "        vertical-align: middle;\n",
              "    }\n",
              "\n",
              "    .dataframe tbody tr th {\n",
              "        vertical-align: top;\n",
              "    }\n",
              "\n",
              "    .dataframe thead th {\n",
              "        text-align: right;\n",
              "    }\n",
              "</style>\n",
              "<table border=\"1\" class=\"dataframe\">\n",
              "  <thead>\n",
              "    <tr style=\"text-align: right;\">\n",
              "      <th></th>\n",
              "      <th>ID</th>\n",
              "      <th>Age</th>\n",
              "      <th>Channel_Code</th>\n",
              "      <th>Vintage</th>\n",
              "      <th>Avg_Account_Balance</th>\n",
              "      <th>Is_Lead</th>\n",
              "      <th>Region_Code_fcode</th>\n",
              "      <th>Gender_Female</th>\n",
              "      <th>Gender_Male</th>\n",
              "      <th>Occupation_Entrepreneur</th>\n",
              "      <th>Occupation_Other</th>\n",
              "      <th>Occupation_Salaried</th>\n",
              "      <th>Occupation_Self_Employed</th>\n",
              "      <th>Credit_Product_No</th>\n",
              "      <th>Credit_Product_Yes</th>\n",
              "      <th>Is_Active_No</th>\n",
              "      <th>Is_Active_Yes</th>\n",
              "      <th>Region_Code_Range_250-260</th>\n",
              "      <th>Region_Code_Range_261-270</th>\n",
              "      <th>Region_Code_Range_271-284</th>\n",
              "    </tr>\n",
              "  </thead>\n",
              "  <tbody>\n",
              "    <tr>\n",
              "      <th>0</th>\n",
              "      <td>NNVBBKZB</td>\n",
              "      <td>73</td>\n",
              "      <td>2</td>\n",
              "      <td>43</td>\n",
              "      <td>1045696</td>\n",
              "      <td>0</td>\n",
              "      <td>0.146237</td>\n",
              "      <td>1</td>\n",
              "      <td>0</td>\n",
              "      <td>0</td>\n",
              "      <td>1</td>\n",
              "      <td>0</td>\n",
              "      <td>0</td>\n",
              "      <td>1</td>\n",
              "      <td>0</td>\n",
              "      <td>1</td>\n",
              "      <td>0</td>\n",
              "      <td>0</td>\n",
              "      <td>1</td>\n",
              "      <td>0</td>\n",
              "    </tr>\n",
              "    <tr>\n",
              "      <th>1</th>\n",
              "      <td>IDD62UNG</td>\n",
              "      <td>30</td>\n",
              "      <td>0</td>\n",
              "      <td>32</td>\n",
              "      <td>581988</td>\n",
              "      <td>0</td>\n",
              "      <td>0.052197</td>\n",
              "      <td>1</td>\n",
              "      <td>0</td>\n",
              "      <td>0</td>\n",
              "      <td>0</td>\n",
              "      <td>1</td>\n",
              "      <td>0</td>\n",
              "      <td>1</td>\n",
              "      <td>0</td>\n",
              "      <td>1</td>\n",
              "      <td>0</td>\n",
              "      <td>0</td>\n",
              "      <td>0</td>\n",
              "      <td>1</td>\n",
              "    </tr>\n",
              "    <tr>\n",
              "      <th>2</th>\n",
              "      <td>HD3DSEMC</td>\n",
              "      <td>56</td>\n",
              "      <td>2</td>\n",
              "      <td>26</td>\n",
              "      <td>1484315</td>\n",
              "      <td>0</td>\n",
              "      <td>0.146237</td>\n",
              "      <td>1</td>\n",
              "      <td>0</td>\n",
              "      <td>0</td>\n",
              "      <td>0</td>\n",
              "      <td>0</td>\n",
              "      <td>1</td>\n",
              "      <td>1</td>\n",
              "      <td>0</td>\n",
              "      <td>0</td>\n",
              "      <td>1</td>\n",
              "      <td>0</td>\n",
              "      <td>1</td>\n",
              "      <td>0</td>\n",
              "    </tr>\n",
              "    <tr>\n",
              "      <th>3</th>\n",
              "      <td>BF3NC7KV</td>\n",
              "      <td>34</td>\n",
              "      <td>0</td>\n",
              "      <td>19</td>\n",
              "      <td>470454</td>\n",
              "      <td>0</td>\n",
              "      <td>0.031417</td>\n",
              "      <td>0</td>\n",
              "      <td>1</td>\n",
              "      <td>0</td>\n",
              "      <td>0</td>\n",
              "      <td>1</td>\n",
              "      <td>0</td>\n",
              "      <td>1</td>\n",
              "      <td>0</td>\n",
              "      <td>1</td>\n",
              "      <td>0</td>\n",
              "      <td>0</td>\n",
              "      <td>1</td>\n",
              "      <td>0</td>\n",
              "    </tr>\n",
              "    <tr>\n",
              "      <th>4</th>\n",
              "      <td>TEASRWXV</td>\n",
              "      <td>30</td>\n",
              "      <td>0</td>\n",
              "      <td>33</td>\n",
              "      <td>886787</td>\n",
              "      <td>0</td>\n",
              "      <td>0.023722</td>\n",
              "      <td>1</td>\n",
              "      <td>0</td>\n",
              "      <td>0</td>\n",
              "      <td>0</td>\n",
              "      <td>1</td>\n",
              "      <td>0</td>\n",
              "      <td>1</td>\n",
              "      <td>0</td>\n",
              "      <td>1</td>\n",
              "      <td>0</td>\n",
              "      <td>0</td>\n",
              "      <td>0</td>\n",
              "      <td>1</td>\n",
              "    </tr>\n",
              "  </tbody>\n",
              "</table>\n",
              "</div>"
            ],
            "text/plain": [
              "         ID  Age  ...  Region_Code_Range_261-270  Region_Code_Range_271-284\n",
              "0  NNVBBKZB   73  ...                          1                          0\n",
              "1  IDD62UNG   30  ...                          0                          1\n",
              "2  HD3DSEMC   56  ...                          1                          0\n",
              "3  BF3NC7KV   34  ...                          1                          0\n",
              "4  TEASRWXV   30  ...                          0                          1\n",
              "\n",
              "[5 rows x 20 columns]"
            ]
          },
          "metadata": {
            "tags": []
          },
          "execution_count": 53
        }
      ]
    },
    {
      "cell_type": "code",
      "metadata": {
        "id": "weCTR4PPtL0t"
      },
      "source": [
        "df_train = df_train.select_dtypes(exclude='object')\n",
        "df_test = df_test.select_dtypes(exclude='object')"
      ],
      "execution_count": 54,
      "outputs": []
    },
    {
      "cell_type": "code",
      "metadata": {
        "id": "KnOta6jLuTZz",
        "colab": {
          "base_uri": "https://localhost:8080/",
          "height": 234
        },
        "outputId": "a3bf02d3-62de-4dd2-a271-1907fc354878"
      },
      "source": [
        "df_train.head()"
      ],
      "execution_count": 55,
      "outputs": [
        {
          "output_type": "execute_result",
          "data": {
            "text/html": [
              "<div>\n",
              "<style scoped>\n",
              "    .dataframe tbody tr th:only-of-type {\n",
              "        vertical-align: middle;\n",
              "    }\n",
              "\n",
              "    .dataframe tbody tr th {\n",
              "        vertical-align: top;\n",
              "    }\n",
              "\n",
              "    .dataframe thead th {\n",
              "        text-align: right;\n",
              "    }\n",
              "</style>\n",
              "<table border=\"1\" class=\"dataframe\">\n",
              "  <thead>\n",
              "    <tr style=\"text-align: right;\">\n",
              "      <th></th>\n",
              "      <th>Age</th>\n",
              "      <th>Channel_Code</th>\n",
              "      <th>Vintage</th>\n",
              "      <th>Avg_Account_Balance</th>\n",
              "      <th>Is_Lead</th>\n",
              "      <th>Region_Code_fcode</th>\n",
              "      <th>Gender_Female</th>\n",
              "      <th>Gender_Male</th>\n",
              "      <th>Occupation_Entrepreneur</th>\n",
              "      <th>Occupation_Other</th>\n",
              "      <th>Occupation_Salaried</th>\n",
              "      <th>Occupation_Self_Employed</th>\n",
              "      <th>Credit_Product_No</th>\n",
              "      <th>Credit_Product_Yes</th>\n",
              "      <th>Is_Active_No</th>\n",
              "      <th>Is_Active_Yes</th>\n",
              "      <th>Region_Code_Range_250-260</th>\n",
              "      <th>Region_Code_Range_261-270</th>\n",
              "      <th>Region_Code_Range_271-284</th>\n",
              "    </tr>\n",
              "  </thead>\n",
              "  <tbody>\n",
              "    <tr>\n",
              "      <th>0</th>\n",
              "      <td>73</td>\n",
              "      <td>2</td>\n",
              "      <td>43</td>\n",
              "      <td>1045696</td>\n",
              "      <td>0</td>\n",
              "      <td>0.146237</td>\n",
              "      <td>1</td>\n",
              "      <td>0</td>\n",
              "      <td>0</td>\n",
              "      <td>1</td>\n",
              "      <td>0</td>\n",
              "      <td>0</td>\n",
              "      <td>1</td>\n",
              "      <td>0</td>\n",
              "      <td>1</td>\n",
              "      <td>0</td>\n",
              "      <td>0</td>\n",
              "      <td>1</td>\n",
              "      <td>0</td>\n",
              "    </tr>\n",
              "    <tr>\n",
              "      <th>1</th>\n",
              "      <td>30</td>\n",
              "      <td>0</td>\n",
              "      <td>32</td>\n",
              "      <td>581988</td>\n",
              "      <td>0</td>\n",
              "      <td>0.052197</td>\n",
              "      <td>1</td>\n",
              "      <td>0</td>\n",
              "      <td>0</td>\n",
              "      <td>0</td>\n",
              "      <td>1</td>\n",
              "      <td>0</td>\n",
              "      <td>1</td>\n",
              "      <td>0</td>\n",
              "      <td>1</td>\n",
              "      <td>0</td>\n",
              "      <td>0</td>\n",
              "      <td>0</td>\n",
              "      <td>1</td>\n",
              "    </tr>\n",
              "    <tr>\n",
              "      <th>2</th>\n",
              "      <td>56</td>\n",
              "      <td>2</td>\n",
              "      <td>26</td>\n",
              "      <td>1484315</td>\n",
              "      <td>0</td>\n",
              "      <td>0.146237</td>\n",
              "      <td>1</td>\n",
              "      <td>0</td>\n",
              "      <td>0</td>\n",
              "      <td>0</td>\n",
              "      <td>0</td>\n",
              "      <td>1</td>\n",
              "      <td>1</td>\n",
              "      <td>0</td>\n",
              "      <td>0</td>\n",
              "      <td>1</td>\n",
              "      <td>0</td>\n",
              "      <td>1</td>\n",
              "      <td>0</td>\n",
              "    </tr>\n",
              "    <tr>\n",
              "      <th>3</th>\n",
              "      <td>34</td>\n",
              "      <td>0</td>\n",
              "      <td>19</td>\n",
              "      <td>470454</td>\n",
              "      <td>0</td>\n",
              "      <td>0.031417</td>\n",
              "      <td>0</td>\n",
              "      <td>1</td>\n",
              "      <td>0</td>\n",
              "      <td>0</td>\n",
              "      <td>1</td>\n",
              "      <td>0</td>\n",
              "      <td>1</td>\n",
              "      <td>0</td>\n",
              "      <td>1</td>\n",
              "      <td>0</td>\n",
              "      <td>0</td>\n",
              "      <td>1</td>\n",
              "      <td>0</td>\n",
              "    </tr>\n",
              "    <tr>\n",
              "      <th>4</th>\n",
              "      <td>30</td>\n",
              "      <td>0</td>\n",
              "      <td>33</td>\n",
              "      <td>886787</td>\n",
              "      <td>0</td>\n",
              "      <td>0.023722</td>\n",
              "      <td>1</td>\n",
              "      <td>0</td>\n",
              "      <td>0</td>\n",
              "      <td>0</td>\n",
              "      <td>1</td>\n",
              "      <td>0</td>\n",
              "      <td>1</td>\n",
              "      <td>0</td>\n",
              "      <td>1</td>\n",
              "      <td>0</td>\n",
              "      <td>0</td>\n",
              "      <td>0</td>\n",
              "      <td>1</td>\n",
              "    </tr>\n",
              "  </tbody>\n",
              "</table>\n",
              "</div>"
            ],
            "text/plain": [
              "   Age  Channel_Code  ...  Region_Code_Range_261-270  Region_Code_Range_271-284\n",
              "0   73             2  ...                          1                          0\n",
              "1   30             0  ...                          0                          1\n",
              "2   56             2  ...                          1                          0\n",
              "3   34             0  ...                          1                          0\n",
              "4   30             0  ...                          0                          1\n",
              "\n",
              "[5 rows x 19 columns]"
            ]
          },
          "metadata": {
            "tags": []
          },
          "execution_count": 55
        }
      ]
    },
    {
      "cell_type": "code",
      "metadata": {
        "id": "OGZ8IOzetYvf"
      },
      "source": [
        "# Seperate Features and Target\n",
        "X= df_train.drop(columns = ['Is_Lead'], axis=1)\n",
        "y= df_train['Is_Lead']"
      ],
      "execution_count": 56,
      "outputs": []
    },
    {
      "cell_type": "code",
      "metadata": {
        "id": "sGnHv3ayuIDP"
      },
      "source": [
        "# 20% data as validation set\n",
        "X_train,X_valid,y_train,y_valid = train_test_split(X,y,test_size=0.2,random_state=22)"
      ],
      "execution_count": 57,
      "outputs": []
    },
    {
      "cell_type": "code",
      "metadata": {
        "id": "Di41izciuIPa"
      },
      "source": [
        "from sklearn.preprocessing import StandardScaler\n",
        "\n",
        "scaler = StandardScaler()\n",
        "X_train_1 = scaler.fit_transform(X_train)\n",
        "X_test_1  = scaler.transform(X_valid)\n",
        "\n",
        "scaler = StandardScaler()\n",
        "X_val_1 = scaler.fit_transform(df_test)"
      ],
      "execution_count": 58,
      "outputs": []
    },
    {
      "cell_type": "code",
      "metadata": {
        "id": "4mHVn3UJuITD",
        "colab": {
          "base_uri": "https://localhost:8080/"
        },
        "outputId": "b8dc9c7e-ce4f-4f5e-fbc0-0423c079ace5"
      },
      "source": [
        "print(X_train_1.shape)\n",
        "print(X_val_1.shape)"
      ],
      "execution_count": 59,
      "outputs": [
        {
          "output_type": "stream",
          "text": [
            "(196580, 18)\n",
            "(105312, 18)\n"
          ],
          "name": "stdout"
        }
      ]
    },
    {
      "cell_type": "code",
      "metadata": {
        "id": "JCxmCAegvnMk"
      },
      "source": [
        "from sklearn.metrics import roc_curve\n",
        "from sklearn.metrics import roc_auc_score\n",
        "import matplotlib.pyplot as plt\n",
        "plt.style.use('seaborn')\n",
        "from sklearn.metrics import f1_score\n",
        "\n",
        "\n",
        "def roc_auc_curve (y_test, pred_prob, model_name):\n",
        "  auc_score1 = roc_auc_score(y_test, pred_prob[:,1])\n",
        "  # roc curve for models\n",
        "  fpr1, tpr1, thresh1 = roc_curve(y_test, pred_prob[:,1], pos_label=1)\n",
        "  # roc curve for tpr = fpr \n",
        "  random_probs = [0 for i in range(len(y_test))]\n",
        "  p_fpr, p_tpr, _ = roc_curve(y_test, random_probs, pos_label=1)\n",
        "  plt.plot(fpr1, tpr1, linestyle='--', color='orange', label = model_name)\n",
        "  plt.title('ROC curve')\n",
        "  plt.xlabel('False Positive Rate')\n",
        "  plt.ylabel('True Positive rate')\n",
        "  plt.legend(loc='best')\n",
        "  plt.savefig('ROC',dpi=300)\n",
        "  plt.show();"
      ],
      "execution_count": 62,
      "outputs": []
    },
    {
      "cell_type": "code",
      "metadata": {
        "id": "a5-VGbTs5qbx"
      },
      "source": [
        "import csv\n",
        "\n",
        "def save_result(test, model_name, pred_prob_val):\n",
        "  count = 0 \n",
        "  id_test = df_test['ID']\n",
        "  filename = model_name +\".csv\"\n",
        "  with open(filename, 'w', newline='') as file:\n",
        "      writer = csv.writer(file)\n",
        "      writer.writerow(['ID', 'Is_Lead'])\n",
        "      for ids in id_test:\n",
        "        writer.writerow([id_test[count], pred_prob_val[count]])\n",
        "        count = count+1 "
      ],
      "execution_count": 64,
      "outputs": []
    },
    {
      "cell_type": "code",
      "metadata": {
        "colab": {
          "base_uri": "https://localhost:8080/",
          "height": 1000
        },
        "id": "M8QeTJyOv12j",
        "outputId": "da44a09d-91de-45b7-a213-a55f3226511e"
      },
      "source": [
        "def run_model(X_train, y_train, X_test_1, y_test, X_val_1, df_test):\n",
        "  models = {\n",
        "      \"LogisticRegression\" : LogisticRegression(class_weight=\"balanced\"),\n",
        "      \"KNeighborsClassifier\" : KNeighborsClassifier(n_neighbors=4),\n",
        "      \"RandomForestClassifier\" : RandomForestClassifier(bootstrap=True, ccp_alpha=0.0, class_weight=None,\n",
        "                       criterion='gini', max_depth=6, max_features='log2',\n",
        "                       max_leaf_nodes=None, max_samples=None,\n",
        "                       min_impurity_decrease=0.0, min_impurity_split=None,\n",
        "                       min_samples_leaf=1, min_samples_split=3,\n",
        "                       min_weight_fraction_leaf=0.0, n_estimators=50,\n",
        "                       n_jobs=None, oob_score=False, random_state=9, verbose=0,\n",
        "                       warm_start=False),\n",
        "      \"XGBClassifier\" : XGBClassifier(max_depth=9, min_child_weight=5,  n_estimators=220),\n",
        "      \"LGBMClassifier\" : LGBMClassifier()\n",
        "  }\n",
        "\n",
        "  for model_name, ml_model in models.items():\n",
        "    ml_model.fit(X_train_1, y_train)\n",
        "    pred_prob = ml_model.predict_proba(X_test_1)\n",
        "    roc_auc_curve (y_test, pred_prob, model_name)\n",
        "    pred_prob_val = ml_model.predict(X_val_1)\n",
        "    pred = ml_model.predict(X_test_1)\n",
        "    print(f1_score(y_test, pred, average='weighted'))\n",
        "    save_result(test, model_name, pred_prob_val)\n",
        "\n",
        "run_model(X_train, y_train, X_test_1, y_valid, X_val_1, test)"
      ],
      "execution_count": 66,
      "outputs": [
        {
          "output_type": "display_data",
          "data": {
            "image/png": "[encoded data removed]",
            "text/plain": [
              "<Figure size 576x396 with 1 Axes>"
            ]
          },
          "metadata": {
            "tags": []
          }
        },
        {
          "output_type": "stream",
          "text": [
            "0.6791525849860683\n"
          ],
          "name": "stdout"
        },
        {
          "output_type": "display_data",
          "data": {
            "image/png": "[encoded data removed]",
            "text/plain": [
              "<Figure size 576x396 with 1 Axes>"
            ]
          },
          "metadata": {
            "tags": []
          }
        },
        {
          "output_type": "stream",
          "text": [
            "0.7394561989254943\n"
          ],
          "name": "stdout"
        },
        {
          "output_type": "display_data",
          "data": {
            "image/png": "[encoded data removed]",
            "text/plain": [
              "<Figure size 576x396 with 1 Axes>"
            ]
          },
          "metadata": {
            "tags": []
          }
        },
        {
          "output_type": "stream",
          "text": [
            "0.7138901887904012\n"
          ],
          "name": "stdout"
        },
        {
          "output_type": "display_data",
          "data": {
            "image/png": "[encoded data removed]",
            "text/plain": [
              "<Figure size 576x396 with 1 Axes>"
            ]
          },
          "metadata": {
            "tags": []
          }
        },
        {
          "output_type": "stream",
          "text": [
            "0.7599368640307311\n"
          ],
          "name": "stdout"
        },
        {
          "output_type": "display_data",
          "data": {
            "image/png": "[encoded data removed]",
            "text/plain": [
              "<Figure size 576x396 with 1 Axes>"
            ]
          },
          "metadata": {
            "tags": []
          }
        },
        {
          "output_type": "stream",
          "text": [
            "0.7580058504495232\n"
          ],
          "name": "stdout"
        }
      ]
    },
    {
      "cell_type": "code",
      "metadata": {
        "id": "ltOd4JU_5k2K"
      },
      "source": [
        " "
      ],
      "execution_count": null,
      "outputs": []
    }
  ]
}